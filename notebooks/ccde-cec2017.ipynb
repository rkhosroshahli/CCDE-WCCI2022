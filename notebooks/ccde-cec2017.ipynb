{
 "cells": [
  {
   "cell_type": "code",
   "execution_count": 1,
   "metadata": {},
   "outputs": [],
   "source": [
    "import numpy as np\n",
    "import matplotlib.pyplot as plt\n",
    "from cec2017.functions import *\n",
    "import sys\n",
    "sys.path.append('../')\n",
    "from ccde.algorithms import CCDE, PCCDE"
   ]
  },
  {
   "cell_type": "code",
   "execution_count": 30,
   "metadata": {},
   "outputs": [],
   "source": [
    "from cec2017.functions import *\n",
    "from os.path import exists\n",
    "\n",
    "GET_FUNCTION = {\"1\": f1, \"2\": f2, \"3\": f3, \"4\": f4, \"5\": f5, \"6\": f6, \"7\": f7, \"8\": f8, \"9\": f9, \"10\": f10,\n",
    "                \"11\": f11, \"12\": f12, \"13\": f13, \"14\": f14, \"15\": f15, \"16\": f16, \"17\": f17, \"18\": f18, \"19\": f19, \"20\": f20,\n",
    "                \"21\": f21, \"22\": f22, \"23\": f23, \"24\": f24, \"25\": f25, \"26\": f26, \"27\": f27, \"28\": f28, \"29\": f29, \"30\": f30}\n",
    "\n",
    "class CCDE_cec2017:\n",
    "    def __init__(self, fnum=1, dimensions=100, default_bounds=(-100, 100), max_FES=3e+05, num_runs=31,\n",
    "                    popsize=100, mutation_rate=0.8, crossover_rate=0.9, NC=None, strategy='rand1bin',\n",
    "                    seed=None, save_file_name=None):\n",
    "        problem = GET_FUNCTION.get(str(fnum))\n",
    "        bounds = [default_bounds] * dimensions\n",
    "        fstar = fnum * 100\n",
    "        self.num_runs = num_runs\n",
    "        self.algo_name = \"CCDE\"\n",
    "        self.NC = NC\n",
    "        self.NC_text = f\"_NC{NC}\"\n",
    "        if NC == None or NC == 0:\n",
    "            self.algo_name = \"DE\"\n",
    "            self.NC_text = \"\"\n",
    "        self.model = CCDE(fobj=problem, bounds=bounds, strategy=strategy,\n",
    "             mutation=mutation_rate, crossover=crossover_rate,\n",
    "             NC=NC, maxfes=max_FES, popsize=popsize, seed=seed, fstar=fstar)\n",
    "        self.outputs = None\n",
    "        self.save_file_name = save_file_name\n",
    "        if save_file_name == None:\n",
    "            self.save_file_name = f\"results/{self.algo_name}_f{fnum}_{dimensions}D_MR{mutation_rate}_CR{crossover_rate}_{strategy}{self.NC_text}.npz\"\n",
    "        self.popsize = popsize\n",
    "        self.max_FES = max_FES\n",
    "\n",
    "    def run(self, continue_to_last_run=True, show_progressbar=True):\n",
    "        best_candidate, all_best_fitness, all_mean_fitness = [], [], []\n",
    "        last_run = 0\n",
    "        if exists(self.save_file_name) and continue_to_last_run:\n",
    "            loadnpz = np.load(self.save_file_name)\n",
    "            best_candidate, all_best_fitness, all_mean_fitness = loadnpz[\"best_candidate\"], loadnpz[\"all_best_fitness\"], loadnpz[\"all_mean_fitness\"]\n",
    "            last_run = len(best_candidate)\n",
    "            print(f\"The last saved run was {last_run} and the experiment will continue from the last...\")\n",
    "        for run in range(last_run, self.num_runs):\n",
    "            self.outputs = self.model.solve(show_progress=True)\n",
    "            \n",
    "            print(f\"Run {run+1}, Best Error: {self.outputs[1]:E}\")\n",
    "            if run != 0:\n",
    "                best_candidate = np.append(best_candidate, [self.outputs[0]], axis=0)\n",
    "                all_best_fitness = np.append(all_best_fitness, [self.outputs[2]], axis=0)\n",
    "                all_mean_fitness = np.append(all_mean_fitness, [self.outputs[3]], axis=0)\n",
    "            else:\n",
    "                best_candidate = [self.outputs[0]]\n",
    "                all_best_fitness = [self.outputs[2]]\n",
    "                all_mean_fitness = [self.outputs[3]]\n",
    "            np.savez(self.save_file_name, best_candidate=best_candidate,\n",
    "                    all_best_fitness=all_best_fitness, all_mean_fitness=all_mean_fitness)\n",
    "            \n",
    "        best_f = all_best_fitness[:, -1]\n",
    "        print(\"Best:\", \"{:e}\".format(np.amin(best_f)))\n",
    "        print(\"Median:\", \"{:e}\".format(np.median(best_f)))\n",
    "        print(\"Worst:\", \"{:e}\".format(np.amax(best_f)))\n",
    "        print(\"Mean:\", \"{:e}\".format(np.mean(best_f)))\n",
    "        print(\"Std:\", \"{:e}\".format(np.std(best_f)))\n",
    "        \n",
    "    def plot(self, figsize=(12, 5)):\n",
    "        loadnpz = np.load(self.save_file_name)\n",
    "        all_best_fitness = loadnpz[\"all_best_fitness\"]\n",
    "        \n",
    "        intervals = np.arange(self.popsize, self.max_FES+1, self.popsize)\n",
    "        fig, ax = plt.subplots(figsize=(12, 5))\n",
    "        label_text = \"\"\n",
    "        if self.NC != 0:\n",
    "            label_text = f\"({self.NC_text}-clusters)\"\n",
    "        ax.plot(intervals, np.mean(all_best_fitness, axis=0), label=f\"{self.algo_name}{label_text}\")\n",
    "        ax.set_yscale(\"log\")\n",
    "        ax.ticklabel_format(axis='x', style='sci', scilimits=[-1,1],useMathText=True)\n",
    "        ax.set_xlabel('Function Evaluations (FES)')\n",
    "        ax.set_ylabel('f(x)-f(x*)')\n",
    "        ax.set_title('Logarithmic scale')\n",
    "        ax.grid()\n",
    "        plt.legend(loc='best')\n",
    "        plt.show()\n",
    "          \n"
   ]
  },
  {
   "cell_type": "code",
   "execution_count": 23,
   "metadata": {},
   "outputs": [],
   "source": [
    "test = CCDE_cec2017(fnum=1, dimensions=100, NC=10)"
   ]
  },
  {
   "cell_type": "code",
   "execution_count": 4,
   "metadata": {},
   "outputs": [
    {
     "data": {
      "application/vnd.jupyter.widget-view+json": {
       "model_id": "335f3a3931ff4a3aa29fe240c3d4d1f7",
       "version_major": 2,
       "version_minor": 0
      },
      "text/plain": [
       "Optimizing (CCDE):   0%|          | 0/3000 [00:00<?, ?it/s]"
      ]
     },
     "metadata": {},
     "output_type": "display_data"
    },
    {
     "name": "stdout",
     "output_type": "stream",
     "text": [
      "Run 1, Best Error: 9.096531E+03\n"
     ]
    },
    {
     "data": {
      "application/vnd.jupyter.widget-view+json": {
       "model_id": "1af50ec5a2b04f118d80d445d6e72266",
       "version_major": 2,
       "version_minor": 0
      },
      "text/plain": [
       "Optimizing (CCDE):   0%|          | 0/3000 [00:00<?, ?it/s]"
      ]
     },
     "metadata": {},
     "output_type": "display_data"
    },
    {
     "name": "stdout",
     "output_type": "stream",
     "text": [
      "Run 2, Best Error: 1.369163E+04\n"
     ]
    },
    {
     "data": {
      "application/vnd.jupyter.widget-view+json": {
       "model_id": "41a1e1ee315a4e6c914860ffe12b3edb",
       "version_major": 2,
       "version_minor": 0
      },
      "text/plain": [
       "Optimizing (CCDE):   0%|          | 0/3000 [00:00<?, ?it/s]"
      ]
     },
     "metadata": {},
     "output_type": "display_data"
    },
    {
     "name": "stdout",
     "output_type": "stream",
     "text": [
      "Run 3, Best Error: 3.906713E+03\n"
     ]
    },
    {
     "data": {
      "application/vnd.jupyter.widget-view+json": {
       "model_id": "c79c36bfaa8d4594ad4233bddcbf151f",
       "version_major": 2,
       "version_minor": 0
      },
      "text/plain": [
       "Optimizing (CCDE):   0%|          | 0/3000 [00:00<?, ?it/s]"
      ]
     },
     "metadata": {},
     "output_type": "display_data"
    },
    {
     "name": "stdout",
     "output_type": "stream",
     "text": [
      "Run 4, Best Error: 4.126603E+01\n"
     ]
    },
    {
     "data": {
      "application/vnd.jupyter.widget-view+json": {
       "model_id": "e6620b97d8aa49f3ac8100bfeb24fac8",
       "version_major": 2,
       "version_minor": 0
      },
      "text/plain": [
       "Optimizing (CCDE):   0%|          | 0/3000 [00:00<?, ?it/s]"
      ]
     },
     "metadata": {},
     "output_type": "display_data"
    },
    {
     "name": "stdout",
     "output_type": "stream",
     "text": [
      "Run 5, Best Error: 9.974882E+03\n"
     ]
    },
    {
     "data": {
      "application/vnd.jupyter.widget-view+json": {
       "model_id": "7ba118cd77e349238392764532b6b712",
       "version_major": 2,
       "version_minor": 0
      },
      "text/plain": [
       "Optimizing (CCDE):   0%|          | 0/3000 [00:00<?, ?it/s]"
      ]
     },
     "metadata": {},
     "output_type": "display_data"
    },
    {
     "name": "stdout",
     "output_type": "stream",
     "text": [
      "Run 6, Best Error: 1.526832E+03\n"
     ]
    },
    {
     "data": {
      "application/vnd.jupyter.widget-view+json": {
       "model_id": "6fa6579c11564b06bbac028ce8c5bec1",
       "version_major": 2,
       "version_minor": 0
      },
      "text/plain": [
       "Optimizing (CCDE):   0%|          | 0/3000 [00:00<?, ?it/s]"
      ]
     },
     "metadata": {},
     "output_type": "display_data"
    },
    {
     "name": "stdout",
     "output_type": "stream",
     "text": [
      "Run 7, Best Error: 7.580804E+03\n"
     ]
    },
    {
     "data": {
      "application/vnd.jupyter.widget-view+json": {
       "model_id": "6b8b905596d84455bd06f6352b215265",
       "version_major": 2,
       "version_minor": 0
      },
      "text/plain": [
       "Optimizing (CCDE):   0%|          | 0/3000 [00:00<?, ?it/s]"
      ]
     },
     "metadata": {},
     "output_type": "display_data"
    },
    {
     "name": "stdout",
     "output_type": "stream",
     "text": [
      "Run 8, Best Error: 4.339064E+01\n"
     ]
    },
    {
     "data": {
      "application/vnd.jupyter.widget-view+json": {
       "model_id": "cabb09f17a934acca0f4b4d175356e0f",
       "version_major": 2,
       "version_minor": 0
      },
      "text/plain": [
       "Optimizing (CCDE):   0%|          | 0/3000 [00:00<?, ?it/s]"
      ]
     },
     "metadata": {},
     "output_type": "display_data"
    },
    {
     "name": "stdout",
     "output_type": "stream",
     "text": [
      "Run 9, Best Error: 1.244823E+03\n"
     ]
    },
    {
     "data": {
      "application/vnd.jupyter.widget-view+json": {
       "model_id": "d90ec01bf4084daea0160debb7366034",
       "version_major": 2,
       "version_minor": 0
      },
      "text/plain": [
       "Optimizing (CCDE):   0%|          | 0/3000 [00:00<?, ?it/s]"
      ]
     },
     "metadata": {},
     "output_type": "display_data"
    },
    {
     "name": "stdout",
     "output_type": "stream",
     "text": [
      "Run 10, Best Error: 2.643729E+02\n"
     ]
    },
    {
     "data": {
      "application/vnd.jupyter.widget-view+json": {
       "model_id": "8e1e7a93a39d494b880421c521df3b1b",
       "version_major": 2,
       "version_minor": 0
      },
      "text/plain": [
       "Optimizing (CCDE):   0%|          | 0/3000 [00:00<?, ?it/s]"
      ]
     },
     "metadata": {},
     "output_type": "display_data"
    },
    {
     "name": "stdout",
     "output_type": "stream",
     "text": [
      "Run 11, Best Error: 5.785043E+03\n"
     ]
    },
    {
     "data": {
      "application/vnd.jupyter.widget-view+json": {
       "model_id": "ce5b6c8221854e5b8095712d0d9da100",
       "version_major": 2,
       "version_minor": 0
      },
      "text/plain": [
       "Optimizing (CCDE):   0%|          | 0/3000 [00:00<?, ?it/s]"
      ]
     },
     "metadata": {},
     "output_type": "display_data"
    },
    {
     "name": "stdout",
     "output_type": "stream",
     "text": [
      "Run 12, Best Error: 6.465715E+03\n"
     ]
    },
    {
     "data": {
      "application/vnd.jupyter.widget-view+json": {
       "model_id": "6ec3b98377d949aaaa788c95e0af3661",
       "version_major": 2,
       "version_minor": 0
      },
      "text/plain": [
       "Optimizing (CCDE):   0%|          | 0/3000 [00:00<?, ?it/s]"
      ]
     },
     "metadata": {},
     "output_type": "display_data"
    },
    {
     "name": "stdout",
     "output_type": "stream",
     "text": [
      "Run 13, Best Error: 4.964266E+00\n"
     ]
    },
    {
     "data": {
      "application/vnd.jupyter.widget-view+json": {
       "model_id": "8c63ac5e44d0487d810aef86c46e0afa",
       "version_major": 2,
       "version_minor": 0
      },
      "text/plain": [
       "Optimizing (CCDE):   0%|          | 0/3000 [00:00<?, ?it/s]"
      ]
     },
     "metadata": {},
     "output_type": "display_data"
    },
    {
     "name": "stdout",
     "output_type": "stream",
     "text": [
      "Run 14, Best Error: 1.905182E+03\n"
     ]
    },
    {
     "data": {
      "application/vnd.jupyter.widget-view+json": {
       "model_id": "63a9f0bc4c364f90997c628c698c7bc3",
       "version_major": 2,
       "version_minor": 0
      },
      "text/plain": [
       "Optimizing (CCDE):   0%|          | 0/3000 [00:00<?, ?it/s]"
      ]
     },
     "metadata": {},
     "output_type": "display_data"
    },
    {
     "name": "stdout",
     "output_type": "stream",
     "text": [
      "Run 15, Best Error: 1.448311E+02\n"
     ]
    },
    {
     "data": {
      "application/vnd.jupyter.widget-view+json": {
       "model_id": "17a7239cae7f425d8dbd6b05cac04375",
       "version_major": 2,
       "version_minor": 0
      },
      "text/plain": [
       "Optimizing (CCDE):   0%|          | 0/3000 [00:00<?, ?it/s]"
      ]
     },
     "metadata": {},
     "output_type": "display_data"
    },
    {
     "name": "stdout",
     "output_type": "stream",
     "text": [
      "Run 16, Best Error: 1.647646E+03\n"
     ]
    },
    {
     "data": {
      "application/vnd.jupyter.widget-view+json": {
       "model_id": "0f842a353abc448d8e8f33c158375851",
       "version_major": 2,
       "version_minor": 0
      },
      "text/plain": [
       "Optimizing (CCDE):   0%|          | 0/3000 [00:00<?, ?it/s]"
      ]
     },
     "metadata": {},
     "output_type": "display_data"
    },
    {
     "name": "stdout",
     "output_type": "stream",
     "text": [
      "Run 17, Best Error: 7.490657E+03\n"
     ]
    },
    {
     "data": {
      "application/vnd.jupyter.widget-view+json": {
       "model_id": "9a8ab0a19cd349b195cc2dfd99eeed41",
       "version_major": 2,
       "version_minor": 0
      },
      "text/plain": [
       "Optimizing (CCDE):   0%|          | 0/3000 [00:00<?, ?it/s]"
      ]
     },
     "metadata": {},
     "output_type": "display_data"
    },
    {
     "name": "stdout",
     "output_type": "stream",
     "text": [
      "Run 18, Best Error: 6.431317E+03\n"
     ]
    },
    {
     "data": {
      "application/vnd.jupyter.widget-view+json": {
       "model_id": "513278a3b45241c5a5e9924c2ce0f536",
       "version_major": 2,
       "version_minor": 0
      },
      "text/plain": [
       "Optimizing (CCDE):   0%|          | 0/3000 [00:00<?, ?it/s]"
      ]
     },
     "metadata": {},
     "output_type": "display_data"
    },
    {
     "name": "stdout",
     "output_type": "stream",
     "text": [
      "Run 19, Best Error: 6.123388E+01\n"
     ]
    },
    {
     "data": {
      "application/vnd.jupyter.widget-view+json": {
       "model_id": "7653279377ce45b491b1293e167fc82c",
       "version_major": 2,
       "version_minor": 0
      },
      "text/plain": [
       "Optimizing (CCDE):   0%|          | 0/3000 [00:00<?, ?it/s]"
      ]
     },
     "metadata": {},
     "output_type": "display_data"
    },
    {
     "name": "stdout",
     "output_type": "stream",
     "text": [
      "Run 20, Best Error: 6.771466E+02\n"
     ]
    },
    {
     "data": {
      "application/vnd.jupyter.widget-view+json": {
       "model_id": "500b74d23d7f41d28bb66bca9b74aa0f",
       "version_major": 2,
       "version_minor": 0
      },
      "text/plain": [
       "Optimizing (CCDE):   0%|          | 0/3000 [00:00<?, ?it/s]"
      ]
     },
     "metadata": {},
     "output_type": "display_data"
    },
    {
     "name": "stdout",
     "output_type": "stream",
     "text": [
      "Run 21, Best Error: 1.965195E+02\n"
     ]
    },
    {
     "data": {
      "application/vnd.jupyter.widget-view+json": {
       "model_id": "a707d1fb22454feb8add3c9da2cf6eb5",
       "version_major": 2,
       "version_minor": 0
      },
      "text/plain": [
       "Optimizing (CCDE):   0%|          | 0/3000 [00:00<?, ?it/s]"
      ]
     },
     "metadata": {},
     "output_type": "display_data"
    },
    {
     "name": "stdout",
     "output_type": "stream",
     "text": [
      "Run 22, Best Error: 5.033690E+03\n"
     ]
    },
    {
     "data": {
      "application/vnd.jupyter.widget-view+json": {
       "model_id": "8bb62c5b612a4d83ac0e33491a94a3f8",
       "version_major": 2,
       "version_minor": 0
      },
      "text/plain": [
       "Optimizing (CCDE):   0%|          | 0/3000 [00:00<?, ?it/s]"
      ]
     },
     "metadata": {},
     "output_type": "display_data"
    },
    {
     "name": "stdout",
     "output_type": "stream",
     "text": [
      "Run 23, Best Error: 3.848016E+03\n"
     ]
    },
    {
     "data": {
      "application/vnd.jupyter.widget-view+json": {
       "model_id": "0be6ea5f2db9439d95c6c3b7e1b5b379",
       "version_major": 2,
       "version_minor": 0
      },
      "text/plain": [
       "Optimizing (CCDE):   0%|          | 0/3000 [00:00<?, ?it/s]"
      ]
     },
     "metadata": {},
     "output_type": "display_data"
    },
    {
     "name": "stdout",
     "output_type": "stream",
     "text": [
      "Run 24, Best Error: 3.057488E+03\n"
     ]
    },
    {
     "data": {
      "application/vnd.jupyter.widget-view+json": {
       "model_id": "f9028537539749e1a091feb301c7b408",
       "version_major": 2,
       "version_minor": 0
      },
      "text/plain": [
       "Optimizing (CCDE):   0%|          | 0/3000 [00:00<?, ?it/s]"
      ]
     },
     "metadata": {},
     "output_type": "display_data"
    },
    {
     "name": "stdout",
     "output_type": "stream",
     "text": [
      "Run 25, Best Error: 4.009262E+03\n"
     ]
    },
    {
     "data": {
      "application/vnd.jupyter.widget-view+json": {
       "model_id": "b653a084d9fc4e6d99ee497e2f606765",
       "version_major": 2,
       "version_minor": 0
      },
      "text/plain": [
       "Optimizing (CCDE):   0%|          | 0/3000 [00:00<?, ?it/s]"
      ]
     },
     "metadata": {},
     "output_type": "display_data"
    },
    {
     "name": "stdout",
     "output_type": "stream",
     "text": [
      "Run 26, Best Error: 3.537695E+03\n"
     ]
    },
    {
     "data": {
      "application/vnd.jupyter.widget-view+json": {
       "model_id": "d375067ea37d4eaba2728bf1a0f7651e",
       "version_major": 2,
       "version_minor": 0
      },
      "text/plain": [
       "Optimizing (CCDE):   0%|          | 0/3000 [00:00<?, ?it/s]"
      ]
     },
     "metadata": {},
     "output_type": "display_data"
    },
    {
     "name": "stdout",
     "output_type": "stream",
     "text": [
      "Run 27, Best Error: 5.241768E+03\n"
     ]
    },
    {
     "data": {
      "application/vnd.jupyter.widget-view+json": {
       "model_id": "7371695d6570476b83e76f960e213189",
       "version_major": 2,
       "version_minor": 0
      },
      "text/plain": [
       "Optimizing (CCDE):   0%|          | 0/3000 [00:00<?, ?it/s]"
      ]
     },
     "metadata": {},
     "output_type": "display_data"
    },
    {
     "name": "stdout",
     "output_type": "stream",
     "text": [
      "Run 28, Best Error: 1.240610E+04\n"
     ]
    },
    {
     "data": {
      "application/vnd.jupyter.widget-view+json": {
       "model_id": "877e9183ea214be681f47679a137a5f1",
       "version_major": 2,
       "version_minor": 0
      },
      "text/plain": [
       "Optimizing (CCDE):   0%|          | 0/3000 [00:00<?, ?it/s]"
      ]
     },
     "metadata": {},
     "output_type": "display_data"
    },
    {
     "name": "stdout",
     "output_type": "stream",
     "text": [
      "Run 29, Best Error: 1.531933E+04\n"
     ]
    },
    {
     "data": {
      "application/vnd.jupyter.widget-view+json": {
       "model_id": "3c8243ca1f714db182a7a534a23495a0",
       "version_major": 2,
       "version_minor": 0
      },
      "text/plain": [
       "Optimizing (CCDE):   0%|          | 0/3000 [00:00<?, ?it/s]"
      ]
     },
     "metadata": {},
     "output_type": "display_data"
    },
    {
     "name": "stdout",
     "output_type": "stream",
     "text": [
      "Run 30, Best Error: 2.276457E+00\n"
     ]
    },
    {
     "data": {
      "application/vnd.jupyter.widget-view+json": {
       "model_id": "c56dcc4153df47d6a0b2da9f159fb2bc",
       "version_major": 2,
       "version_minor": 0
      },
      "text/plain": [
       "Optimizing (CCDE):   0%|          | 0/3000 [00:00<?, ?it/s]"
      ]
     },
     "metadata": {},
     "output_type": "display_data"
    },
    {
     "name": "stdout",
     "output_type": "stream",
     "text": [
      "Run 31, Best Error: 1.039802E+04\n"
     ]
    }
   ],
   "source": [
    "test.run(continue_to_last_run=True)"
   ]
  },
  {
   "cell_type": "code",
   "execution_count": 18,
   "metadata": {},
   "outputs": [
    {
     "data": {
      "image/png": "[encoded data removed]",
      "text/plain": [
       "<Figure size 864x360 with 1 Axes>"
      ]
     },
     "metadata": {
      "needs_background": "light"
     },
     "output_type": "display_data"
    }
   ],
   "source": [
    "test.plot()"
   ]
  },
  {
   "cell_type": "code",
   "execution_count": 31,
   "metadata": {},
   "outputs": [],
   "source": [
    "test = CCDE_cec2017(fnum=1, dimensions=100, NC=0)"
   ]
  },
  {
   "cell_type": "code",
   "execution_count": 33,
   "metadata": {
    "scrolled": true
   },
   "outputs": [
    {
     "name": "stdout",
     "output_type": "stream",
     "text": [
      "The last saved run was 3 and the experiment will continue from the last...\n"
     ]
    },
    {
     "data": {
      "application/vnd.jupyter.widget-view+json": {
       "model_id": "541b8bd090bf4dd19fca0f2a16143c64",
       "version_major": 2,
       "version_minor": 0
      },
      "text/plain": [
       "Optimizing (CCDE):   0%|          | 0/3000 [00:00<?, ?it/s]"
      ]
     },
     "metadata": {},
     "output_type": "display_data"
    },
    {
     "name": "stdout",
     "output_type": "stream",
     "text": [
      "Run 4, Best Error: 3.526545E+11\n"
     ]
    },
    {
     "data": {
      "application/vnd.jupyter.widget-view+json": {
       "model_id": "6d1b3e77500d45c093aac676f72f5cf8",
       "version_major": 2,
       "version_minor": 0
      },
      "text/plain": [
       "Optimizing (CCDE):   0%|          | 0/3000 [00:00<?, ?it/s]"
      ]
     },
     "metadata": {},
     "output_type": "display_data"
    },
    {
     "name": "stdout",
     "output_type": "stream",
     "text": [
      "Run 5, Best Error: 2.034353E+11\n"
     ]
    },
    {
     "data": {
      "application/vnd.jupyter.widget-view+json": {
       "model_id": "1a524af94bb141438b6411bd3b3290e4",
       "version_major": 2,
       "version_minor": 0
      },
      "text/plain": [
       "Optimizing (CCDE):   0%|          | 0/3000 [00:00<?, ?it/s]"
      ]
     },
     "metadata": {},
     "output_type": "display_data"
    },
    {
     "name": "stdout",
     "output_type": "stream",
     "text": [
      "Run 6, Best Error: 2.784500E+11\n"
     ]
    },
    {
     "data": {
      "application/vnd.jupyter.widget-view+json": {
       "model_id": "a30573e93fc340f9b8def70fda81700f",
       "version_major": 2,
       "version_minor": 0
      },
      "text/plain": [
       "Optimizing (CCDE):   0%|          | 0/3000 [00:00<?, ?it/s]"
      ]
     },
     "metadata": {},
     "output_type": "display_data"
    },
    {
     "name": "stdout",
     "output_type": "stream",
     "text": [
      "Run 7, Best Error: 2.233611E+11\n"
     ]
    },
    {
     "data": {
      "application/vnd.jupyter.widget-view+json": {
       "model_id": "e722d47f83df4aadae3d46466ecf6552",
       "version_major": 2,
       "version_minor": 0
      },
      "text/plain": [
       "Optimizing (CCDE):   0%|          | 0/3000 [00:00<?, ?it/s]"
      ]
     },
     "metadata": {},
     "output_type": "display_data"
    },
    {
     "name": "stdout",
     "output_type": "stream",
     "text": [
      "Run 8, Best Error: 3.229127E+11\n"
     ]
    },
    {
     "data": {
      "application/vnd.jupyter.widget-view+json": {
       "model_id": "c8b812cd1e284a69bc9e8383ccf39750",
       "version_major": 2,
       "version_minor": 0
      },
      "text/plain": [
       "Optimizing (CCDE):   0%|          | 0/3000 [00:00<?, ?it/s]"
      ]
     },
     "metadata": {},
     "output_type": "display_data"
    },
    {
     "name": "stdout",
     "output_type": "stream",
     "text": [
      "Run 9, Best Error: 3.922240E+11\n"
     ]
    },
    {
     "data": {
      "application/vnd.jupyter.widget-view+json": {
       "model_id": "2766bec0bdfc4dacb026516f19123641",
       "version_major": 2,
       "version_minor": 0
      },
      "text/plain": [
       "Optimizing (CCDE):   0%|          | 0/3000 [00:00<?, ?it/s]"
      ]
     },
     "metadata": {},
     "output_type": "display_data"
    },
    {
     "name": "stdout",
     "output_type": "stream",
     "text": [
      "Run 10, Best Error: 2.595321E+11\n"
     ]
    },
    {
     "data": {
      "application/vnd.jupyter.widget-view+json": {
       "model_id": "10a14187031a415cbd1ae23dee13ce60",
       "version_major": 2,
       "version_minor": 0
      },
      "text/plain": [
       "Optimizing (CCDE):   0%|          | 0/3000 [00:00<?, ?it/s]"
      ]
     },
     "metadata": {},
     "output_type": "display_data"
    },
    {
     "name": "stdout",
     "output_type": "stream",
     "text": [
      "Run 11, Best Error: 3.200486E+11\n"
     ]
    },
    {
     "data": {
      "application/vnd.jupyter.widget-view+json": {
       "model_id": "f053512d06734221a95488e38cc3eba1",
       "version_major": 2,
       "version_minor": 0
      },
      "text/plain": [
       "Optimizing (CCDE):   0%|          | 0/3000 [00:00<?, ?it/s]"
      ]
     },
     "metadata": {},
     "output_type": "display_data"
    },
    {
     "name": "stdout",
     "output_type": "stream",
     "text": [
      "Run 12, Best Error: 2.887635E+11\n"
     ]
    },
    {
     "data": {
      "application/vnd.jupyter.widget-view+json": {
       "model_id": "e0639cd0d5c744018c11ecb48ec2d26b",
       "version_major": 2,
       "version_minor": 0
      },
      "text/plain": [
       "Optimizing (CCDE):   0%|          | 0/3000 [00:00<?, ?it/s]"
      ]
     },
     "metadata": {},
     "output_type": "display_data"
    },
    {
     "name": "stdout",
     "output_type": "stream",
     "text": [
      "Run 13, Best Error: 2.973146E+11\n"
     ]
    },
    {
     "data": {
      "application/vnd.jupyter.widget-view+json": {
       "model_id": "067c56821216479d9ba944f2e5d07ed2",
       "version_major": 2,
       "version_minor": 0
      },
      "text/plain": [
       "Optimizing (CCDE):   0%|          | 0/3000 [00:00<?, ?it/s]"
      ]
     },
     "metadata": {},
     "output_type": "display_data"
    },
    {
     "name": "stdout",
     "output_type": "stream",
     "text": [
      "Run 14, Best Error: 2.096951E+11\n"
     ]
    },
    {
     "data": {
      "application/vnd.jupyter.widget-view+json": {
       "model_id": "e7e7c6e30bf2497993c27de15d70ea2c",
       "version_major": 2,
       "version_minor": 0
      },
      "text/plain": [
       "Optimizing (CCDE):   0%|          | 0/3000 [00:00<?, ?it/s]"
      ]
     },
     "metadata": {},
     "output_type": "display_data"
    },
    {
     "name": "stdout",
     "output_type": "stream",
     "text": [
      "Run 15, Best Error: 2.335956E+11\n"
     ]
    },
    {
     "data": {
      "application/vnd.jupyter.widget-view+json": {
       "model_id": "9089826b7c5c479c979626a2c667c2a5",
       "version_major": 2,
       "version_minor": 0
      },
      "text/plain": [
       "Optimizing (CCDE):   0%|          | 0/3000 [00:00<?, ?it/s]"
      ]
     },
     "metadata": {},
     "output_type": "display_data"
    },
    {
     "name": "stdout",
     "output_type": "stream",
     "text": [
      "Run 16, Best Error: 2.457406E+11\n"
     ]
    },
    {
     "data": {
      "application/vnd.jupyter.widget-view+json": {
       "model_id": "0cefef2b00d24093942d3c68dffdec86",
       "version_major": 2,
       "version_minor": 0
      },
      "text/plain": [
       "Optimizing (CCDE):   0%|          | 0/3000 [00:00<?, ?it/s]"
      ]
     },
     "metadata": {},
     "output_type": "display_data"
    },
    {
     "name": "stdout",
     "output_type": "stream",
     "text": [
      "Run 17, Best Error: 2.035789E+11\n"
     ]
    },
    {
     "data": {
      "application/vnd.jupyter.widget-view+json": {
       "model_id": "d3ecd68bb13e47d5a654ec53991593cb",
       "version_major": 2,
       "version_minor": 0
      },
      "text/plain": [
       "Optimizing (CCDE):   0%|          | 0/3000 [00:00<?, ?it/s]"
      ]
     },
     "metadata": {},
     "output_type": "display_data"
    },
    {
     "name": "stdout",
     "output_type": "stream",
     "text": [
      "Run 18, Best Error: 2.800199E+11\n"
     ]
    },
    {
     "data": {
      "application/vnd.jupyter.widget-view+json": {
       "model_id": "800e92b0e776425f8e7a797cbc218307",
       "version_major": 2,
       "version_minor": 0
      },
      "text/plain": [
       "Optimizing (CCDE):   0%|          | 0/3000 [00:00<?, ?it/s]"
      ]
     },
     "metadata": {},
     "output_type": "display_data"
    },
    {
     "name": "stdout",
     "output_type": "stream",
     "text": [
      "Run 19, Best Error: 2.607347E+11\n"
     ]
    },
    {
     "data": {
      "application/vnd.jupyter.widget-view+json": {
       "model_id": "c6541f60b9324bdd9513177442f7ebfc",
       "version_major": 2,
       "version_minor": 0
      },
      "text/plain": [
       "Optimizing (CCDE):   0%|          | 0/3000 [00:00<?, ?it/s]"
      ]
     },
     "metadata": {},
     "output_type": "display_data"
    },
    {
     "name": "stdout",
     "output_type": "stream",
     "text": [
      "Run 20, Best Error: 2.527688E+11\n"
     ]
    },
    {
     "data": {
      "application/vnd.jupyter.widget-view+json": {
       "model_id": "6c33e613bfcf48e9add8895c6ab8a9fe",
       "version_major": 2,
       "version_minor": 0
      },
      "text/plain": [
       "Optimizing (CCDE):   0%|          | 0/3000 [00:00<?, ?it/s]"
      ]
     },
     "metadata": {},
     "output_type": "display_data"
    },
    {
     "name": "stdout",
     "output_type": "stream",
     "text": [
      "Run 21, Best Error: 3.419079E+11\n"
     ]
    },
    {
     "data": {
      "application/vnd.jupyter.widget-view+json": {
       "model_id": "e5c77fe7d72f4cf7ab4e357bb8d6cd13",
       "version_major": 2,
       "version_minor": 0
      },
      "text/plain": [
       "Optimizing (CCDE):   0%|          | 0/3000 [00:00<?, ?it/s]"
      ]
     },
     "metadata": {},
     "output_type": "display_data"
    },
    {
     "name": "stdout",
     "output_type": "stream",
     "text": [
      "Run 22, Best Error: 1.773528E+11\n"
     ]
    },
    {
     "data": {
      "application/vnd.jupyter.widget-view+json": {
       "model_id": "b3b003733e7e4054b8f780f3970ba0fb",
       "version_major": 2,
       "version_minor": 0
      },
      "text/plain": [
       "Optimizing (CCDE):   0%|          | 0/3000 [00:00<?, ?it/s]"
      ]
     },
     "metadata": {},
     "output_type": "display_data"
    },
    {
     "name": "stdout",
     "output_type": "stream",
     "text": [
      "Run 23, Best Error: 2.649543E+11\n"
     ]
    },
    {
     "data": {
      "application/vnd.jupyter.widget-view+json": {
       "model_id": "0a02b3390e9d4e6283d918e4fa2c0138",
       "version_major": 2,
       "version_minor": 0
      },
      "text/plain": [
       "Optimizing (CCDE):   0%|          | 0/3000 [00:00<?, ?it/s]"
      ]
     },
     "metadata": {},
     "output_type": "display_data"
    },
    {
     "name": "stdout",
     "output_type": "stream",
     "text": [
      "Run 24, Best Error: 2.238601E+11\n"
     ]
    },
    {
     "data": {
      "application/vnd.jupyter.widget-view+json": {
       "model_id": "7c2959fc323544658351714babb89a73",
       "version_major": 2,
       "version_minor": 0
      },
      "text/plain": [
       "Optimizing (CCDE):   0%|          | 0/3000 [00:00<?, ?it/s]"
      ]
     },
     "metadata": {},
     "output_type": "display_data"
    },
    {
     "name": "stdout",
     "output_type": "stream",
     "text": [
      "Run 25, Best Error: 2.388556E+11\n"
     ]
    },
    {
     "data": {
      "application/vnd.jupyter.widget-view+json": {
       "model_id": "ad4ccd3168f14aeb9a2f41dc7010b857",
       "version_major": 2,
       "version_minor": 0
      },
      "text/plain": [
       "Optimizing (CCDE):   0%|          | 0/3000 [00:00<?, ?it/s]"
      ]
     },
     "metadata": {},
     "output_type": "display_data"
    },
    {
     "name": "stdout",
     "output_type": "stream",
     "text": [
      "Run 26, Best Error: 2.634209E+11\n"
     ]
    },
    {
     "data": {
      "application/vnd.jupyter.widget-view+json": {
       "model_id": "680d0c0c173746afba834e2bb30c2e7c",
       "version_major": 2,
       "version_minor": 0
      },
      "text/plain": [
       "Optimizing (CCDE):   0%|          | 0/3000 [00:00<?, ?it/s]"
      ]
     },
     "metadata": {},
     "output_type": "display_data"
    },
    {
     "name": "stdout",
     "output_type": "stream",
     "text": [
      "Run 27, Best Error: 1.896984E+11\n"
     ]
    },
    {
     "data": {
      "application/vnd.jupyter.widget-view+json": {
       "model_id": "87057842711c4f9cb6aa4a331f38a24f",
       "version_major": 2,
       "version_minor": 0
      },
      "text/plain": [
       "Optimizing (CCDE):   0%|          | 0/3000 [00:00<?, ?it/s]"
      ]
     },
     "metadata": {},
     "output_type": "display_data"
    },
    {
     "name": "stdout",
     "output_type": "stream",
     "text": [
      "Run 28, Best Error: 2.437475E+11\n"
     ]
    },
    {
     "data": {
      "application/vnd.jupyter.widget-view+json": {
       "model_id": "f441730f35bb4351a79dd580d87e461d",
       "version_major": 2,
       "version_minor": 0
      },
      "text/plain": [
       "Optimizing (CCDE):   0%|          | 0/3000 [00:00<?, ?it/s]"
      ]
     },
     "metadata": {},
     "output_type": "display_data"
    },
    {
     "name": "stdout",
     "output_type": "stream",
     "text": [
      "Run 29, Best Error: 3.664983E+11\n"
     ]
    },
    {
     "data": {
      "application/vnd.jupyter.widget-view+json": {
       "model_id": "cb5cb5a8eb5d455fba2bb887256d9dc8",
       "version_major": 2,
       "version_minor": 0
      },
      "text/plain": [
       "Optimizing (CCDE):   0%|          | 0/3000 [00:00<?, ?it/s]"
      ]
     },
     "metadata": {},
     "output_type": "display_data"
    },
    {
     "name": "stdout",
     "output_type": "stream",
     "text": [
      "Run 30, Best Error: 2.742436E+11\n"
     ]
    },
    {
     "data": {
      "application/vnd.jupyter.widget-view+json": {
       "model_id": "8c5f5fdb658a4cd0938396f352c11100",
       "version_major": 2,
       "version_minor": 0
      },
      "text/plain": [
       "Optimizing (CCDE):   0%|          | 0/3000 [00:00<?, ?it/s]"
      ]
     },
     "metadata": {},
     "output_type": "display_data"
    },
    {
     "name": "stdout",
     "output_type": "stream",
     "text": [
      "Run 31, Best Error: 1.876986E+11\n"
     ]
    }
   ],
   "source": [
    "test.run(continue_to_last_run=True, show_progressbar=False)"
   ]
  },
  {
   "cell_type": "code",
   "execution_count": 34,
   "metadata": {},
   "outputs": [
    {
     "data": {
      "image/png": "[encoded data removed]",
      "text/plain": [
       "<Figure size 864x360 with 1 Axes>"
      ]
     },
     "metadata": {
      "needs_background": "light"
     },
     "output_type": "display_data"
    }
   ],
   "source": [
    "test.plot()"
   ]
  },
  {
   "cell_type": "code",
   "execution_count": null,
   "metadata": {},
   "outputs": [],
   "source": []
  }
 ],
 "metadata": {
  "interpreter": {
   "hash": "3d80d58c4eb30652f3d52db78929ef256a04bf7876869c9803709f526815663b"
  },
  "kernelspec": {
   "display_name": "Python 3",
   "language": "python",
   "name": "python3"
  },
  "language_info": {
   "codemirror_mode": {
    "name": "ipython",
    "version": 3
   },
   "file_extension": ".py",
   "mimetype": "text/x-python",
   "name": "python",
   "nbconvert_exporter": "python",
   "pygments_lexer": "ipython3",
   "version": "3.8.8"
  }
 },
 "nbformat": 4,
 "nbformat_minor": 2
}
